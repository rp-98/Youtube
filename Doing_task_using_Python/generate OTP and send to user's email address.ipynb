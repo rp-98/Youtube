{
 "cells": [
  {
   "cell_type": "markdown",
   "metadata": {},
   "source": [
    "# Generate an OTP and Send it to User's email in Python"
   ]
  },
  {
   "cell_type": "markdown",
   "metadata": {},
   "source": [
    "### steps\n",
    "1. Generate OTP --- using random module\n",
    "2. Send OTP to user's email adress--- SMTPlib Module\n",
    "\n",
    "Video link: https://youtu.be/5JhyblEx9Fo\n",
    "\n",
    "four digit--0201,2930"
   ]
  },
  {
   "cell_type": "code",
   "execution_count": 32,
   "metadata": {},
   "outputs": [],
   "source": [
    "import random\n",
    "import smtplib"
   ]
  },
  {
   "cell_type": "code",
   "execution_count": 48,
   "metadata": {},
   "outputs": [
    {
     "data": {
      "text/plain": [
       "(221, b'2.0.0 closing connection z1sm7656542pfj.113 - gsmtp')"
      ]
     },
     "execution_count": 48,
     "metadata": {},
     "output_type": "execute_result"
    }
   ],
   "source": [
    "server=smtplib.SMTP('smtp.gmail.com',587)\n",
    "#adding TLS security \n",
    "server.starttls()\n",
    "#get your app password of gmail ----as directed in the video\n",
    "password='*************'\n",
    "server.login(email,password)\n",
    "#generate OTP using random.randint() function\n",
    "otp=''.join([str(random.randint(0,9)) for i in range(4)])\n",
    "msg='Hello, Your OTP is '+str(otp)\n",
    "sender=''  #write email id of sender\n",
    "receiver='' #write email of receiver\n",
    "#sendi\n",
    "server.sendmail(sender,receiver,msg)\n",
    "server.quit()"
   ]
  },
  {
   "cell_type": "markdown",
   "metadata": {},
   "source": [
    "Video link:\n",
    "    https://youtu.be/5JhyblEx9Fo"
   ]
  },
  {
   "cell_type": "code",
   "execution_count": null,
   "metadata": {},
   "outputs": [],
   "source": []
  }
 ],
 "metadata": {
  "kernelspec": {
   "display_name": "Python 3",
   "language": "python",
   "name": "python3"
  },
  "language_info": {
   "codemirror_mode": {
    "name": "ipython",
    "version": 3
   },
   "file_extension": ".py",
   "mimetype": "text/x-python",
   "name": "python",
   "nbconvert_exporter": "python",
   "pygments_lexer": "ipython3",
   "version": "3.8.3"
  }
 },
 "nbformat": 4,
 "nbformat_minor": 4
}
